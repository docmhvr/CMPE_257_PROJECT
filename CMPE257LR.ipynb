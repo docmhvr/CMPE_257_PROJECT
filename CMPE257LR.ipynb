{
  "nbformat": 4,
  "nbformat_minor": 0,
  "metadata": {
    "colab": {
      "provenance": []
    },
    "kernelspec": {
      "name": "python3",
      "display_name": "Python 3"
    },
    "language_info": {
      "name": "python"
    }
  },
  "cells": [
    {
      "cell_type": "code",
      "execution_count": 1,
      "metadata": {
        "id": "RGQztMIMt3WV"
      },
      "outputs": [],
      "source": [
        "import pandas as pd\n",
        "import numpy as np"
      ]
    },
    {
      "cell_type": "code",
      "source": [
        "dfSanJose = pd.read_csv(\"/content/PreprocessedDataset\")"
      ],
      "metadata": {
        "id": "GWXl5rjmt7Zy"
      },
      "execution_count": 2,
      "outputs": []
    },
    {
      "cell_type": "code",
      "source": [
        "dfSanJose"
      ],
      "metadata": {
        "colab": {
          "base_uri": "https://localhost:8080/",
          "height": 505
        },
        "id": "FQ3I73WDuGfH",
        "outputId": "ccff96cb-ca3d-4a66-9d3c-d08a6c003dc9"
      },
      "execution_count": 43,
      "outputs": [
        {
          "output_type": "execute_result",
          "data": {
            "text/plain": [
              "      Unnamed: 0   Temp  MaxTemp  MinTemp  hPAAtSeaLevel     hPA  Humidity  \\\n",
              "0              0  48.02    55.94    37.04         1021.0  1019.3        29   \n",
              "1              1  43.52    57.02    33.08         1023.9  1022.2        43   \n",
              "2              2  44.78    57.92    33.08         1023.7  1022.0        54   \n",
              "3              3  46.22    62.06    33.98         1017.6  1015.9        62   \n",
              "4              4  51.26    62.06    35.06         1008.9  1007.2        72   \n",
              "...          ...    ...      ...      ...            ...     ...       ...   \n",
              "1984        1821  49.46    51.80    43.70         1008.8   941.1        87   \n",
              "1985        1822  52.34    57.20    46.40         1012.8   945.0        78   \n",
              "1986        1823  48.20    50.36    45.68         1011.6   943.1        95   \n",
              "1987        1824  52.70    57.20    47.84         1001.6   935.1        91   \n",
              "1988        1825  52.34    57.20    46.40         1004.8   937.7        79   \n",
              "\n",
              "      Visibility  AverageWindSpeed  MaxSustainedWindSpeed  Fog  Percipitation  \n",
              "0           16.1              13.7                   25.9    0              0  \n",
              "1           16.1               6.3                   11.1    0              0  \n",
              "2           16.1               5.0                   14.8    0              0  \n",
              "3           16.1               3.3                   16.5    0              0  \n",
              "4           15.8              20.9                   44.6    0              1  \n",
              "...          ...               ...                    ...  ...            ...  \n",
              "1984        10.1              11.7                   22.2    0              1  \n",
              "1985        12.4              14.6                   22.2    0              1  \n",
              "1986         6.9               8.5                   16.5    0              1  \n",
              "1987        10.3              17.8                   29.4    0              1  \n",
              "1988        12.4              19.8                   37.0    0              1  \n",
              "\n",
              "[1989 rows x 12 columns]"
            ],
            "text/html": [
              "\n",
              "  <div id=\"df-4073b824-3a73-41b3-9033-02ed6c736b6f\">\n",
              "    <div class=\"colab-df-container\">\n",
              "      <div>\n",
              "<style scoped>\n",
              "    .dataframe tbody tr th:only-of-type {\n",
              "        vertical-align: middle;\n",
              "    }\n",
              "\n",
              "    .dataframe tbody tr th {\n",
              "        vertical-align: top;\n",
              "    }\n",
              "\n",
              "    .dataframe thead th {\n",
              "        text-align: right;\n",
              "    }\n",
              "</style>\n",
              "<table border=\"1\" class=\"dataframe\">\n",
              "  <thead>\n",
              "    <tr style=\"text-align: right;\">\n",
              "      <th></th>\n",
              "      <th>Unnamed: 0</th>\n",
              "      <th>Temp</th>\n",
              "      <th>MaxTemp</th>\n",
              "      <th>MinTemp</th>\n",
              "      <th>hPAAtSeaLevel</th>\n",
              "      <th>hPA</th>\n",
              "      <th>Humidity</th>\n",
              "      <th>Visibility</th>\n",
              "      <th>AverageWindSpeed</th>\n",
              "      <th>MaxSustainedWindSpeed</th>\n",
              "      <th>Fog</th>\n",
              "      <th>Percipitation</th>\n",
              "    </tr>\n",
              "  </thead>\n",
              "  <tbody>\n",
              "    <tr>\n",
              "      <th>0</th>\n",
              "      <td>0</td>\n",
              "      <td>48.02</td>\n",
              "      <td>55.94</td>\n",
              "      <td>37.04</td>\n",
              "      <td>1021.0</td>\n",
              "      <td>1019.3</td>\n",
              "      <td>29</td>\n",
              "      <td>16.1</td>\n",
              "      <td>13.7</td>\n",
              "      <td>25.9</td>\n",
              "      <td>0</td>\n",
              "      <td>0</td>\n",
              "    </tr>\n",
              "    <tr>\n",
              "      <th>1</th>\n",
              "      <td>1</td>\n",
              "      <td>43.52</td>\n",
              "      <td>57.02</td>\n",
              "      <td>33.08</td>\n",
              "      <td>1023.9</td>\n",
              "      <td>1022.2</td>\n",
              "      <td>43</td>\n",
              "      <td>16.1</td>\n",
              "      <td>6.3</td>\n",
              "      <td>11.1</td>\n",
              "      <td>0</td>\n",
              "      <td>0</td>\n",
              "    </tr>\n",
              "    <tr>\n",
              "      <th>2</th>\n",
              "      <td>2</td>\n",
              "      <td>44.78</td>\n",
              "      <td>57.92</td>\n",
              "      <td>33.08</td>\n",
              "      <td>1023.7</td>\n",
              "      <td>1022.0</td>\n",
              "      <td>54</td>\n",
              "      <td>16.1</td>\n",
              "      <td>5.0</td>\n",
              "      <td>14.8</td>\n",
              "      <td>0</td>\n",
              "      <td>0</td>\n",
              "    </tr>\n",
              "    <tr>\n",
              "      <th>3</th>\n",
              "      <td>3</td>\n",
              "      <td>46.22</td>\n",
              "      <td>62.06</td>\n",
              "      <td>33.98</td>\n",
              "      <td>1017.6</td>\n",
              "      <td>1015.9</td>\n",
              "      <td>62</td>\n",
              "      <td>16.1</td>\n",
              "      <td>3.3</td>\n",
              "      <td>16.5</td>\n",
              "      <td>0</td>\n",
              "      <td>0</td>\n",
              "    </tr>\n",
              "    <tr>\n",
              "      <th>4</th>\n",
              "      <td>4</td>\n",
              "      <td>51.26</td>\n",
              "      <td>62.06</td>\n",
              "      <td>35.06</td>\n",
              "      <td>1008.9</td>\n",
              "      <td>1007.2</td>\n",
              "      <td>72</td>\n",
              "      <td>15.8</td>\n",
              "      <td>20.9</td>\n",
              "      <td>44.6</td>\n",
              "      <td>0</td>\n",
              "      <td>1</td>\n",
              "    </tr>\n",
              "    <tr>\n",
              "      <th>...</th>\n",
              "      <td>...</td>\n",
              "      <td>...</td>\n",
              "      <td>...</td>\n",
              "      <td>...</td>\n",
              "      <td>...</td>\n",
              "      <td>...</td>\n",
              "      <td>...</td>\n",
              "      <td>...</td>\n",
              "      <td>...</td>\n",
              "      <td>...</td>\n",
              "      <td>...</td>\n",
              "      <td>...</td>\n",
              "    </tr>\n",
              "    <tr>\n",
              "      <th>1984</th>\n",
              "      <td>1821</td>\n",
              "      <td>49.46</td>\n",
              "      <td>51.80</td>\n",
              "      <td>43.70</td>\n",
              "      <td>1008.8</td>\n",
              "      <td>941.1</td>\n",
              "      <td>87</td>\n",
              "      <td>10.1</td>\n",
              "      <td>11.7</td>\n",
              "      <td>22.2</td>\n",
              "      <td>0</td>\n",
              "      <td>1</td>\n",
              "    </tr>\n",
              "    <tr>\n",
              "      <th>1985</th>\n",
              "      <td>1822</td>\n",
              "      <td>52.34</td>\n",
              "      <td>57.20</td>\n",
              "      <td>46.40</td>\n",
              "      <td>1012.8</td>\n",
              "      <td>945.0</td>\n",
              "      <td>78</td>\n",
              "      <td>12.4</td>\n",
              "      <td>14.6</td>\n",
              "      <td>22.2</td>\n",
              "      <td>0</td>\n",
              "      <td>1</td>\n",
              "    </tr>\n",
              "    <tr>\n",
              "      <th>1986</th>\n",
              "      <td>1823</td>\n",
              "      <td>48.20</td>\n",
              "      <td>50.36</td>\n",
              "      <td>45.68</td>\n",
              "      <td>1011.6</td>\n",
              "      <td>943.1</td>\n",
              "      <td>95</td>\n",
              "      <td>6.9</td>\n",
              "      <td>8.5</td>\n",
              "      <td>16.5</td>\n",
              "      <td>0</td>\n",
              "      <td>1</td>\n",
              "    </tr>\n",
              "    <tr>\n",
              "      <th>1987</th>\n",
              "      <td>1824</td>\n",
              "      <td>52.70</td>\n",
              "      <td>57.20</td>\n",
              "      <td>47.84</td>\n",
              "      <td>1001.6</td>\n",
              "      <td>935.1</td>\n",
              "      <td>91</td>\n",
              "      <td>10.3</td>\n",
              "      <td>17.8</td>\n",
              "      <td>29.4</td>\n",
              "      <td>0</td>\n",
              "      <td>1</td>\n",
              "    </tr>\n",
              "    <tr>\n",
              "      <th>1988</th>\n",
              "      <td>1825</td>\n",
              "      <td>52.34</td>\n",
              "      <td>57.20</td>\n",
              "      <td>46.40</td>\n",
              "      <td>1004.8</td>\n",
              "      <td>937.7</td>\n",
              "      <td>79</td>\n",
              "      <td>12.4</td>\n",
              "      <td>19.8</td>\n",
              "      <td>37.0</td>\n",
              "      <td>0</td>\n",
              "      <td>1</td>\n",
              "    </tr>\n",
              "  </tbody>\n",
              "</table>\n",
              "<p>1989 rows × 12 columns</p>\n",
              "</div>\n",
              "      <button class=\"colab-df-convert\" onclick=\"convertToInteractive('df-4073b824-3a73-41b3-9033-02ed6c736b6f')\"\n",
              "              title=\"Convert this dataframe to an interactive table.\"\n",
              "              style=\"display:none;\">\n",
              "        \n",
              "  <svg xmlns=\"http://www.w3.org/2000/svg\" height=\"24px\"viewBox=\"0 0 24 24\"\n",
              "       width=\"24px\">\n",
              "    <path d=\"M0 0h24v24H0V0z\" fill=\"none\"/>\n",
              "    <path d=\"M18.56 5.44l.94 2.06.94-2.06 2.06-.94-2.06-.94-.94-2.06-.94 2.06-2.06.94zm-11 1L8.5 8.5l.94-2.06 2.06-.94-2.06-.94L8.5 2.5l-.94 2.06-2.06.94zm10 10l.94 2.06.94-2.06 2.06-.94-2.06-.94-.94-2.06-.94 2.06-2.06.94z\"/><path d=\"M17.41 7.96l-1.37-1.37c-.4-.4-.92-.59-1.43-.59-.52 0-1.04.2-1.43.59L10.3 9.45l-7.72 7.72c-.78.78-.78 2.05 0 2.83L4 21.41c.39.39.9.59 1.41.59.51 0 1.02-.2 1.41-.59l7.78-7.78 2.81-2.81c.8-.78.8-2.07 0-2.86zM5.41 20L4 18.59l7.72-7.72 1.47 1.35L5.41 20z\"/>\n",
              "  </svg>\n",
              "      </button>\n",
              "      \n",
              "  <style>\n",
              "    .colab-df-container {\n",
              "      display:flex;\n",
              "      flex-wrap:wrap;\n",
              "      gap: 12px;\n",
              "    }\n",
              "\n",
              "    .colab-df-convert {\n",
              "      background-color: #E8F0FE;\n",
              "      border: none;\n",
              "      border-radius: 50%;\n",
              "      cursor: pointer;\n",
              "      display: none;\n",
              "      fill: #1967D2;\n",
              "      height: 32px;\n",
              "      padding: 0 0 0 0;\n",
              "      width: 32px;\n",
              "    }\n",
              "\n",
              "    .colab-df-convert:hover {\n",
              "      background-color: #E2EBFA;\n",
              "      box-shadow: 0px 1px 2px rgba(60, 64, 67, 0.3), 0px 1px 3px 1px rgba(60, 64, 67, 0.15);\n",
              "      fill: #174EA6;\n",
              "    }\n",
              "\n",
              "    [theme=dark] .colab-df-convert {\n",
              "      background-color: #3B4455;\n",
              "      fill: #D2E3FC;\n",
              "    }\n",
              "\n",
              "    [theme=dark] .colab-df-convert:hover {\n",
              "      background-color: #434B5C;\n",
              "      box-shadow: 0px 1px 3px 1px rgba(0, 0, 0, 0.15);\n",
              "      filter: drop-shadow(0px 1px 2px rgba(0, 0, 0, 0.3));\n",
              "      fill: #FFFFFF;\n",
              "    }\n",
              "  </style>\n",
              "\n",
              "      <script>\n",
              "        const buttonEl =\n",
              "          document.querySelector('#df-4073b824-3a73-41b3-9033-02ed6c736b6f button.colab-df-convert');\n",
              "        buttonEl.style.display =\n",
              "          google.colab.kernel.accessAllowed ? 'block' : 'none';\n",
              "\n",
              "        async function convertToInteractive(key) {\n",
              "          const element = document.querySelector('#df-4073b824-3a73-41b3-9033-02ed6c736b6f');\n",
              "          const dataTable =\n",
              "            await google.colab.kernel.invokeFunction('convertToInteractive',\n",
              "                                                     [key], {});\n",
              "          if (!dataTable) return;\n",
              "\n",
              "          const docLinkHtml = 'Like what you see? Visit the ' +\n",
              "            '<a target=\"_blank\" href=https://colab.research.google.com/notebooks/data_table.ipynb>data table notebook</a>'\n",
              "            + ' to learn more about interactive tables.';\n",
              "          element.innerHTML = '';\n",
              "          dataTable['output_type'] = 'display_data';\n",
              "          await google.colab.output.renderOutput(dataTable, element);\n",
              "          const docLink = document.createElement('div');\n",
              "          docLink.innerHTML = docLinkHtml;\n",
              "          element.appendChild(docLink);\n",
              "        }\n",
              "      </script>\n",
              "    </div>\n",
              "  </div>\n",
              "  "
            ]
          },
          "metadata": {},
          "execution_count": 43
        }
      ]
    },
    {
      "cell_type": "code",
      "source": [
        "pred = dfSanJose['Percipitation']"
      ],
      "metadata": {
        "id": "57OwUiJWRNHg"
      },
      "execution_count": 44,
      "outputs": []
    },
    {
      "cell_type": "code",
      "source": [
        "pred.values"
      ],
      "metadata": {
        "colab": {
          "base_uri": "https://localhost:8080/"
        },
        "id": "9ZYwg5UARmZ2",
        "outputId": "a774d7e9-9ac8-4679-fe30-2a3596cde34b"
      },
      "execution_count": 45,
      "outputs": [
        {
          "output_type": "execute_result",
          "data": {
            "text/plain": [
              "array([0, 0, 0, ..., 1, 1, 1])"
            ]
          },
          "metadata": {},
          "execution_count": 45
        }
      ]
    },
    {
      "cell_type": "code",
      "source": [
        "data = dfSanJose.drop(['Percipitation'], axis=1)\n",
        "data = data.drop(['Unnamed: 0'], axis=1)"
      ],
      "metadata": {
        "id": "ZmASqltvRNMa"
      },
      "execution_count": 46,
      "outputs": []
    },
    {
      "cell_type": "code",
      "source": [
        "data"
      ],
      "metadata": {
        "colab": {
          "base_uri": "https://localhost:8080/",
          "height": 488
        },
        "id": "Sr_-DosNRjfE",
        "outputId": "8366b019-9f04-4024-998e-0755f0923c03"
      },
      "execution_count": 47,
      "outputs": [
        {
          "output_type": "execute_result",
          "data": {
            "text/plain": [
              "       Temp  MaxTemp  MinTemp  hPAAtSeaLevel     hPA  Humidity  Visibility  \\\n",
              "0     48.02    55.94    37.04         1021.0  1019.3        29        16.1   \n",
              "1     43.52    57.02    33.08         1023.9  1022.2        43        16.1   \n",
              "2     44.78    57.92    33.08         1023.7  1022.0        54        16.1   \n",
              "3     46.22    62.06    33.98         1017.6  1015.9        62        16.1   \n",
              "4     51.26    62.06    35.06         1008.9  1007.2        72        15.8   \n",
              "...     ...      ...      ...            ...     ...       ...         ...   \n",
              "1984  49.46    51.80    43.70         1008.8   941.1        87        10.1   \n",
              "1985  52.34    57.20    46.40         1012.8   945.0        78        12.4   \n",
              "1986  48.20    50.36    45.68         1011.6   943.1        95         6.9   \n",
              "1987  52.70    57.20    47.84         1001.6   935.1        91        10.3   \n",
              "1988  52.34    57.20    46.40         1004.8   937.7        79        12.4   \n",
              "\n",
              "      AverageWindSpeed  MaxSustainedWindSpeed  Fog  \n",
              "0                 13.7                   25.9    0  \n",
              "1                  6.3                   11.1    0  \n",
              "2                  5.0                   14.8    0  \n",
              "3                  3.3                   16.5    0  \n",
              "4                 20.9                   44.6    0  \n",
              "...                ...                    ...  ...  \n",
              "1984              11.7                   22.2    0  \n",
              "1985              14.6                   22.2    0  \n",
              "1986               8.5                   16.5    0  \n",
              "1987              17.8                   29.4    0  \n",
              "1988              19.8                   37.0    0  \n",
              "\n",
              "[1989 rows x 10 columns]"
            ],
            "text/html": [
              "\n",
              "  <div id=\"df-79624f4d-4c7d-4fdc-ae46-72604197b4e5\">\n",
              "    <div class=\"colab-df-container\">\n",
              "      <div>\n",
              "<style scoped>\n",
              "    .dataframe tbody tr th:only-of-type {\n",
              "        vertical-align: middle;\n",
              "    }\n",
              "\n",
              "    .dataframe tbody tr th {\n",
              "        vertical-align: top;\n",
              "    }\n",
              "\n",
              "    .dataframe thead th {\n",
              "        text-align: right;\n",
              "    }\n",
              "</style>\n",
              "<table border=\"1\" class=\"dataframe\">\n",
              "  <thead>\n",
              "    <tr style=\"text-align: right;\">\n",
              "      <th></th>\n",
              "      <th>Temp</th>\n",
              "      <th>MaxTemp</th>\n",
              "      <th>MinTemp</th>\n",
              "      <th>hPAAtSeaLevel</th>\n",
              "      <th>hPA</th>\n",
              "      <th>Humidity</th>\n",
              "      <th>Visibility</th>\n",
              "      <th>AverageWindSpeed</th>\n",
              "      <th>MaxSustainedWindSpeed</th>\n",
              "      <th>Fog</th>\n",
              "    </tr>\n",
              "  </thead>\n",
              "  <tbody>\n",
              "    <tr>\n",
              "      <th>0</th>\n",
              "      <td>48.02</td>\n",
              "      <td>55.94</td>\n",
              "      <td>37.04</td>\n",
              "      <td>1021.0</td>\n",
              "      <td>1019.3</td>\n",
              "      <td>29</td>\n",
              "      <td>16.1</td>\n",
              "      <td>13.7</td>\n",
              "      <td>25.9</td>\n",
              "      <td>0</td>\n",
              "    </tr>\n",
              "    <tr>\n",
              "      <th>1</th>\n",
              "      <td>43.52</td>\n",
              "      <td>57.02</td>\n",
              "      <td>33.08</td>\n",
              "      <td>1023.9</td>\n",
              "      <td>1022.2</td>\n",
              "      <td>43</td>\n",
              "      <td>16.1</td>\n",
              "      <td>6.3</td>\n",
              "      <td>11.1</td>\n",
              "      <td>0</td>\n",
              "    </tr>\n",
              "    <tr>\n",
              "      <th>2</th>\n",
              "      <td>44.78</td>\n",
              "      <td>57.92</td>\n",
              "      <td>33.08</td>\n",
              "      <td>1023.7</td>\n",
              "      <td>1022.0</td>\n",
              "      <td>54</td>\n",
              "      <td>16.1</td>\n",
              "      <td>5.0</td>\n",
              "      <td>14.8</td>\n",
              "      <td>0</td>\n",
              "    </tr>\n",
              "    <tr>\n",
              "      <th>3</th>\n",
              "      <td>46.22</td>\n",
              "      <td>62.06</td>\n",
              "      <td>33.98</td>\n",
              "      <td>1017.6</td>\n",
              "      <td>1015.9</td>\n",
              "      <td>62</td>\n",
              "      <td>16.1</td>\n",
              "      <td>3.3</td>\n",
              "      <td>16.5</td>\n",
              "      <td>0</td>\n",
              "    </tr>\n",
              "    <tr>\n",
              "      <th>4</th>\n",
              "      <td>51.26</td>\n",
              "      <td>62.06</td>\n",
              "      <td>35.06</td>\n",
              "      <td>1008.9</td>\n",
              "      <td>1007.2</td>\n",
              "      <td>72</td>\n",
              "      <td>15.8</td>\n",
              "      <td>20.9</td>\n",
              "      <td>44.6</td>\n",
              "      <td>0</td>\n",
              "    </tr>\n",
              "    <tr>\n",
              "      <th>...</th>\n",
              "      <td>...</td>\n",
              "      <td>...</td>\n",
              "      <td>...</td>\n",
              "      <td>...</td>\n",
              "      <td>...</td>\n",
              "      <td>...</td>\n",
              "      <td>...</td>\n",
              "      <td>...</td>\n",
              "      <td>...</td>\n",
              "      <td>...</td>\n",
              "    </tr>\n",
              "    <tr>\n",
              "      <th>1984</th>\n",
              "      <td>49.46</td>\n",
              "      <td>51.80</td>\n",
              "      <td>43.70</td>\n",
              "      <td>1008.8</td>\n",
              "      <td>941.1</td>\n",
              "      <td>87</td>\n",
              "      <td>10.1</td>\n",
              "      <td>11.7</td>\n",
              "      <td>22.2</td>\n",
              "      <td>0</td>\n",
              "    </tr>\n",
              "    <tr>\n",
              "      <th>1985</th>\n",
              "      <td>52.34</td>\n",
              "      <td>57.20</td>\n",
              "      <td>46.40</td>\n",
              "      <td>1012.8</td>\n",
              "      <td>945.0</td>\n",
              "      <td>78</td>\n",
              "      <td>12.4</td>\n",
              "      <td>14.6</td>\n",
              "      <td>22.2</td>\n",
              "      <td>0</td>\n",
              "    </tr>\n",
              "    <tr>\n",
              "      <th>1986</th>\n",
              "      <td>48.20</td>\n",
              "      <td>50.36</td>\n",
              "      <td>45.68</td>\n",
              "      <td>1011.6</td>\n",
              "      <td>943.1</td>\n",
              "      <td>95</td>\n",
              "      <td>6.9</td>\n",
              "      <td>8.5</td>\n",
              "      <td>16.5</td>\n",
              "      <td>0</td>\n",
              "    </tr>\n",
              "    <tr>\n",
              "      <th>1987</th>\n",
              "      <td>52.70</td>\n",
              "      <td>57.20</td>\n",
              "      <td>47.84</td>\n",
              "      <td>1001.6</td>\n",
              "      <td>935.1</td>\n",
              "      <td>91</td>\n",
              "      <td>10.3</td>\n",
              "      <td>17.8</td>\n",
              "      <td>29.4</td>\n",
              "      <td>0</td>\n",
              "    </tr>\n",
              "    <tr>\n",
              "      <th>1988</th>\n",
              "      <td>52.34</td>\n",
              "      <td>57.20</td>\n",
              "      <td>46.40</td>\n",
              "      <td>1004.8</td>\n",
              "      <td>937.7</td>\n",
              "      <td>79</td>\n",
              "      <td>12.4</td>\n",
              "      <td>19.8</td>\n",
              "      <td>37.0</td>\n",
              "      <td>0</td>\n",
              "    </tr>\n",
              "  </tbody>\n",
              "</table>\n",
              "<p>1989 rows × 10 columns</p>\n",
              "</div>\n",
              "      <button class=\"colab-df-convert\" onclick=\"convertToInteractive('df-79624f4d-4c7d-4fdc-ae46-72604197b4e5')\"\n",
              "              title=\"Convert this dataframe to an interactive table.\"\n",
              "              style=\"display:none;\">\n",
              "        \n",
              "  <svg xmlns=\"http://www.w3.org/2000/svg\" height=\"24px\"viewBox=\"0 0 24 24\"\n",
              "       width=\"24px\">\n",
              "    <path d=\"M0 0h24v24H0V0z\" fill=\"none\"/>\n",
              "    <path d=\"M18.56 5.44l.94 2.06.94-2.06 2.06-.94-2.06-.94-.94-2.06-.94 2.06-2.06.94zm-11 1L8.5 8.5l.94-2.06 2.06-.94-2.06-.94L8.5 2.5l-.94 2.06-2.06.94zm10 10l.94 2.06.94-2.06 2.06-.94-2.06-.94-.94-2.06-.94 2.06-2.06.94z\"/><path d=\"M17.41 7.96l-1.37-1.37c-.4-.4-.92-.59-1.43-.59-.52 0-1.04.2-1.43.59L10.3 9.45l-7.72 7.72c-.78.78-.78 2.05 0 2.83L4 21.41c.39.39.9.59 1.41.59.51 0 1.02-.2 1.41-.59l7.78-7.78 2.81-2.81c.8-.78.8-2.07 0-2.86zM5.41 20L4 18.59l7.72-7.72 1.47 1.35L5.41 20z\"/>\n",
              "  </svg>\n",
              "      </button>\n",
              "      \n",
              "  <style>\n",
              "    .colab-df-container {\n",
              "      display:flex;\n",
              "      flex-wrap:wrap;\n",
              "      gap: 12px;\n",
              "    }\n",
              "\n",
              "    .colab-df-convert {\n",
              "      background-color: #E8F0FE;\n",
              "      border: none;\n",
              "      border-radius: 50%;\n",
              "      cursor: pointer;\n",
              "      display: none;\n",
              "      fill: #1967D2;\n",
              "      height: 32px;\n",
              "      padding: 0 0 0 0;\n",
              "      width: 32px;\n",
              "    }\n",
              "\n",
              "    .colab-df-convert:hover {\n",
              "      background-color: #E2EBFA;\n",
              "      box-shadow: 0px 1px 2px rgba(60, 64, 67, 0.3), 0px 1px 3px 1px rgba(60, 64, 67, 0.15);\n",
              "      fill: #174EA6;\n",
              "    }\n",
              "\n",
              "    [theme=dark] .colab-df-convert {\n",
              "      background-color: #3B4455;\n",
              "      fill: #D2E3FC;\n",
              "    }\n",
              "\n",
              "    [theme=dark] .colab-df-convert:hover {\n",
              "      background-color: #434B5C;\n",
              "      box-shadow: 0px 1px 3px 1px rgba(0, 0, 0, 0.15);\n",
              "      filter: drop-shadow(0px 1px 2px rgba(0, 0, 0, 0.3));\n",
              "      fill: #FFFFFF;\n",
              "    }\n",
              "  </style>\n",
              "\n",
              "      <script>\n",
              "        const buttonEl =\n",
              "          document.querySelector('#df-79624f4d-4c7d-4fdc-ae46-72604197b4e5 button.colab-df-convert');\n",
              "        buttonEl.style.display =\n",
              "          google.colab.kernel.accessAllowed ? 'block' : 'none';\n",
              "\n",
              "        async function convertToInteractive(key) {\n",
              "          const element = document.querySelector('#df-79624f4d-4c7d-4fdc-ae46-72604197b4e5');\n",
              "          const dataTable =\n",
              "            await google.colab.kernel.invokeFunction('convertToInteractive',\n",
              "                                                     [key], {});\n",
              "          if (!dataTable) return;\n",
              "\n",
              "          const docLinkHtml = 'Like what you see? Visit the ' +\n",
              "            '<a target=\"_blank\" href=https://colab.research.google.com/notebooks/data_table.ipynb>data table notebook</a>'\n",
              "            + ' to learn more about interactive tables.';\n",
              "          element.innerHTML = '';\n",
              "          dataTable['output_type'] = 'display_data';\n",
              "          await google.colab.output.renderOutput(dataTable, element);\n",
              "          const docLink = document.createElement('div');\n",
              "          docLink.innerHTML = docLinkHtml;\n",
              "          element.appendChild(docLink);\n",
              "        }\n",
              "      </script>\n",
              "    </div>\n",
              "  </div>\n",
              "  "
            ]
          },
          "metadata": {},
          "execution_count": 47
        }
      ]
    },
    {
      "cell_type": "code",
      "source": [
        "data = data.values"
      ],
      "metadata": {
        "id": "UrzmP3FCPZyS"
      },
      "execution_count": 48,
      "outputs": []
    },
    {
      "cell_type": "code",
      "source": [
        "data[0]"
      ],
      "metadata": {
        "colab": {
          "base_uri": "https://localhost:8080/"
        },
        "id": "tNI_0atFQeSX",
        "outputId": "f786026e-a2cb-42c2-bfc0-a0bd2760608f"
      },
      "execution_count": 49,
      "outputs": [
        {
          "output_type": "execute_result",
          "data": {
            "text/plain": [
              "array([  48.02,   55.94,   37.04, 1021.  , 1019.3 ,   29.  ,   16.1 ,\n",
              "         13.7 ,   25.9 ,    0.  ])"
            ]
          },
          "metadata": {},
          "execution_count": 49
        }
      ]
    },
    {
      "cell_type": "code",
      "source": [
        "from sklearn.model_selection import train_test_split\n",
        "from sklearn.linear_model import LogisticRegression\n",
        "from sklearn import metrics\n",
        "from sklearn.metrics import confusion_matrix\n",
        "import matplotlib.pyplot as plt\n",
        "\n",
        "random_seed = [123,213,312,321,231,132,456,546,645,465]\n",
        "\n",
        "def random_split(testSize, num):\n",
        "  x_train, x_test, y_train, y_test = train_test_split(data, pred.values, test_size = testSize, random_state = num)\n",
        "  return x_train, x_test, y_train, y_test\n",
        "\n",
        "def cm(train,predict,switch,count):\n",
        "  cm = confusion_matrix(train,predict)\n",
        "  print(cm)\n",
        "  if switch == 0:\n",
        "    plt.matshow(cm, cmap=plt.cm.Greens)\n",
        "  else:\n",
        "     plt.matshow(cm, cmap=plt.cm.Blues)\n",
        "  plt.colorbar()\n",
        "  for i in range(len(cm)): \n",
        "    for j in range(len(cm)):\n",
        "        plt.annotate(cm[i,j], xy=(i, j), horizontalalignment='center', verticalalignment='center')\n",
        "  plt.ylabel('True label')\n",
        "  plt.xlabel('Predicted label')\n",
        "  if switch == 0:\n",
        "    plt.title(\"the {} cycle training\".format(count)) \n",
        "  else:\n",
        "    plt.title(\"the {} cycle testing\".format(count)) \n",
        "  plt.show()\n",
        "\n",
        "\n",
        "def training_loop():\n",
        "  x_train_list = []\n",
        "  x_test_list = []\n",
        "  y_train_list = []\n",
        "  y_test_list = []\n",
        "  train_predict_list = []\n",
        "  test_predict_list = []\n",
        "  for i in range(len(random_seed)):\n",
        "    x_train, x_test, y_train, y_test = random_split(0.2, random_seed[i])\n",
        "    x_train_list.append(x_train)\n",
        "    x_test_list.append(x_test)\n",
        "    y_train_list.append(y_train)\n",
        "    y_test_list.append(y_test)\n",
        "\n",
        "  best_accuracy = 0\n",
        "  for i in range(len(x_train_list)):\n",
        "    model = LogisticRegression(max_iter=1000000)\n",
        "    model.fit(x_train_list[i], y_train_list[i])\n",
        "    train_predict = model.predict(x_train_list[i])\n",
        "    test_predict = model.predict(x_test_list[i])\n",
        "    train_predict_list.append(train_predict)\n",
        "    test_predict_list.append(test_predict)\n",
        "    print('The {} cycle accuracy of the LR for traning is: {}'.format(i,metrics.accuracy_score(y_train,train_predict)*100))\n",
        "    print('The {} cycle accuracy of the LR for testing is: {}'.format(i,metrics.accuracy_score(y_test,test_predict)*100))\n",
        "    cm(y_train_list[i],train_predict,0,i)\n",
        "    cm(y_test_list[i],test_predict,1,i)\n",
        "    if i == 9:\n",
        "      objects = (model, x_train_list[i], y_train_list[i],x_test_list[i],y_test_list[i], metrics.accuracy_score(y_test,test_predict)*100)\n",
        "  return objects\n",
        "\n"
      ],
      "metadata": {
        "id": "b9u3VFbNRKSn"
      },
      "execution_count": 89,
      "outputs": []
    },
    {
      "cell_type": "code",
      "source": [
        "objects = training_loop()"
      ],
      "metadata": {
        "colab": {
          "base_uri": "https://localhost:8080/",
          "height": 1000
        },
        "id": "Sw_9T1fBSk06",
        "outputId": "49cabeea-79a9-41d8-d3a8-13e6cd079b4d"
      },
      "execution_count": 90,
      "outputs": [
        {
          "output_type": "stream",
          "name": "stdout",
          "text": [
            "The 0 cycle accuracy of the LR for traning is: 72.09302325581395\n",
            "The 0 cycle accuracy of the LR for testing is: 74.62311557788944\n",
            "[[1217   55]\n",
            " [ 162  157]]\n"
          ]
        },
        {
          "output_type": "display_data",
          "data": {
            "text/plain": [
              "<Figure size 288x288 with 2 Axes>"
            ],
            "image/png": "[encoded data removed]"
          },
          "metadata": {
            "needs_background": "light"
          }
        },
        {
          "output_type": "stream",
          "name": "stdout",
          "text": [
            "[[320  10]\n",
            " [ 32  36]]\n"
          ]
        },
        {
          "output_type": "display_data",
          "data": {
            "text/plain": [
              "<Figure size 288x288 with 2 Axes>"
            ],
            "image/png": "[encoded data removed]"
          },
          "metadata": {
            "needs_background": "light"
          }
        },
        {
          "output_type": "stream",
          "name": "stdout",
          "text": [
            "The 1 cycle accuracy of the LR for traning is: 72.59585166561911\n",
            "The 1 cycle accuracy of the LR for testing is: 73.86934673366834\n",
            "[[1236   52]\n",
            " [ 161  142]]\n"
          ]
        },
        {
          "output_type": "display_data",
          "data": {
            "text/plain": [
              "<Figure size 288x288 with 2 Axes>"
            ],
            "image/png": "[encoded data removed]"
          },
          "metadata": {
            "needs_background": "light"
          }
        },
        {
          "output_type": "stream",
          "name": "stdout",
          "text": [
            "[[302  12]\n",
            " [ 43  41]]\n"
          ]
        },
        {
          "output_type": "display_data",
          "data": {
            "text/plain": [
              "<Figure size 288x288 with 2 Axes>"
            ],
            "image/png": "[encoded data removed]"
          },
          "metadata": {
            "needs_background": "light"
          }
        },
        {
          "output_type": "stream",
          "name": "stdout",
          "text": [
            "The 2 cycle accuracy of the LR for traning is: 72.1558768070396\n",
            "The 2 cycle accuracy of the LR for testing is: 74.12060301507537\n",
            "[[1212   52]\n",
            " [ 158  169]]\n"
          ]
        },
        {
          "output_type": "display_data",
          "data": {
            "text/plain": [
              "<Figure size 288x288 with 2 Axes>"
            ],
            "image/png": "[encoded data removed]"
          },
          "metadata": {
            "needs_background": "light"
          }
        },
        {
          "output_type": "stream",
          "name": "stdout",
          "text": [
            "[[318  20]\n",
            " [ 32  28]]\n"
          ]
        },
        {
          "output_type": "display_data",
          "data": {
            "text/plain": [
              "<Figure size 288x288 with 2 Axes>"
            ],
            "image/png": "[encoded data removed]"
          },
          "metadata": {
            "needs_background": "light"
          }
        },
        {
          "output_type": "stream",
          "name": "stdout",
          "text": [
            "The 3 cycle accuracy of the LR for traning is: 72.78441231929604\n",
            "The 3 cycle accuracy of the LR for testing is: 76.88442211055276\n",
            "[[1235   50]\n",
            " [ 163  143]]\n"
          ]
        },
        {
          "output_type": "display_data",
          "data": {
            "text/plain": [
              "<Figure size 288x288 with 2 Axes>"
            ],
            "image/png": "[encoded data removed]"
          },
          "metadata": {
            "needs_background": "light"
          }
        },
        {
          "output_type": "stream",
          "name": "stdout",
          "text": [
            "[[313   4]\n",
            " [ 42  39]]\n"
          ]
        },
        {
          "output_type": "display_data",
          "data": {
            "text/plain": [
              "<Figure size 288x288 with 2 Axes>"
            ],
            "image/png": "[encoded data removed]"
          },
          "metadata": {
            "needs_background": "light"
          }
        },
        {
          "output_type": "stream",
          "name": "stdout",
          "text": [
            "The 4 cycle accuracy of the LR for traning is: 71.84160905091139\n",
            "The 4 cycle accuracy of the LR for testing is: 76.38190954773869\n",
            "[[1229   50]\n",
            " [ 162  150]]\n"
          ]
        },
        {
          "output_type": "display_data",
          "data": {
            "text/plain": [
              "<Figure size 288x288 with 2 Axes>"
            ],
            "image/png": "[encoded data removed]"
          },
          "metadata": {
            "needs_background": "light"
          }
        },
        {
          "output_type": "stream",
          "name": "stdout",
          "text": [
            "[[314   9]\n",
            " [ 37  38]]\n"
          ]
        },
        {
          "output_type": "display_data",
          "data": {
            "text/plain": [
              "<Figure size 288x288 with 2 Axes>"
            ],
            "image/png": "[encoded data removed]"
          },
          "metadata": {
            "needs_background": "light"
          }
        },
        {
          "output_type": "stream",
          "name": "stdout",
          "text": [
            "The 5 cycle accuracy of the LR for traning is: 72.59585166561911\n",
            "The 5 cycle accuracy of the LR for testing is: 70.60301507537689\n",
            "[[1236   49]\n",
            " [ 163  143]]\n"
          ]
        },
        {
          "output_type": "display_data",
          "data": {
            "text/plain": [
              "<Figure size 288x288 with 2 Axes>"
            ],
            "image/png": "[encoded data removed]"
          },
          "metadata": {
            "needs_background": "light"
          }
        },
        {
          "output_type": "stream",
          "name": "stdout",
          "text": [
            "[[305  12]\n",
            " [ 33  48]]\n"
          ]
        },
        {
          "output_type": "display_data",
          "data": {
            "text/plain": [
              "<Figure size 288x288 with 2 Axes>"
            ],
            "image/png": "[encoded data removed]"
          },
          "metadata": {
            "needs_background": "light"
          }
        },
        {
          "output_type": "stream",
          "name": "stdout",
          "text": [
            "The 6 cycle accuracy of the LR for traning is: 72.59585166561911\n",
            "The 6 cycle accuracy of the LR for testing is: 75.12562814070351\n",
            "[[1240   49]\n",
            " [ 157  145]]\n"
          ]
        },
        {
          "output_type": "display_data",
          "data": {
            "text/plain": [
              "<Figure size 288x288 with 2 Axes>"
            ],
            "image/png": "[encoded data removed]"
          },
          "metadata": {
            "needs_background": "light"
          }
        },
        {
          "output_type": "stream",
          "name": "stdout",
          "text": [
            "[[298  15]\n",
            " [ 44  41]]\n"
          ]
        },
        {
          "output_type": "display_data",
          "data": {
            "text/plain": [
              "<Figure size 288x288 with 2 Axes>"
            ],
            "image/png": "[encoded data removed]"
          },
          "metadata": {
            "needs_background": "light"
          }
        },
        {
          "output_type": "stream",
          "name": "stdout",
          "text": [
            "The 7 cycle accuracy of the LR for traning is: 71.15021998742928\n",
            "The 7 cycle accuracy of the LR for testing is: 75.87939698492463\n",
            "[[1217   51]\n",
            " [ 165  158]]\n"
          ]
        },
        {
          "output_type": "display_data",
          "data": {
            "text/plain": [
              "<Figure size 288x288 with 2 Axes>"
            ],
            "image/png": "[encoded data removed]"
          },
          "metadata": {
            "needs_background": "light"
          }
        },
        {
          "output_type": "stream",
          "name": "stdout",
          "text": [
            "[[321  13]\n",
            " [ 32  32]]\n"
          ]
        },
        {
          "output_type": "display_data",
          "data": {
            "text/plain": [
              "<Figure size 288x288 with 2 Axes>"
            ],
            "image/png": "[encoded data removed]"
          },
          "metadata": {
            "needs_background": "light"
          }
        },
        {
          "output_type": "stream",
          "name": "stdout",
          "text": [
            "The 8 cycle accuracy of the LR for traning is: 69.70458830923947\n",
            "The 8 cycle accuracy of the LR for testing is: 72.61306532663316\n",
            "[[1220   57]\n",
            " [ 151  163]]\n"
          ]
        },
        {
          "output_type": "display_data",
          "data": {
            "text/plain": [
              "<Figure size 288x288 with 2 Axes>"
            ],
            "image/png": "[encoded data removed]"
          },
          "metadata": {
            "needs_background": "light"
          }
        },
        {
          "output_type": "stream",
          "name": "stdout",
          "text": [
            "[[305  20]\n",
            " [ 39  34]]\n"
          ]
        },
        {
          "output_type": "display_data",
          "data": {
            "text/plain": [
              "<Figure size 288x288 with 2 Axes>"
            ],
            "image/png": "[encoded data removed]"
          },
          "metadata": {
            "needs_background": "light"
          }
        },
        {
          "output_type": "stream",
          "name": "stdout",
          "text": [
            "The 9 cycle accuracy of the LR for traning is: 85.85795097423005\n",
            "The 9 cycle accuracy of the LR for testing is: 90.95477386934674\n",
            "[[1215   56]\n",
            " [ 169  151]]\n"
          ]
        },
        {
          "output_type": "display_data",
          "data": {
            "text/plain": [
              "<Figure size 288x288 with 2 Axes>"
            ],
            "image/png": "[encoded data removed]"
          },
          "metadata": {
            "needs_background": "light"
          }
        },
        {
          "output_type": "stream",
          "name": "stdout",
          "text": [
            "[[324   7]\n",
            " [ 29  38]]\n"
          ]
        },
        {
          "output_type": "display_data",
          "data": {
            "text/plain": [
              "<Figure size 288x288 with 2 Axes>"
            ],
            "image/png": "[encoded data removed]"
          },
          "metadata": {
            "needs_background": "light"
          }
        }
      ]
    },
    {
      "cell_type": "code",
      "source": [
        "import pickle\n",
        "\n",
        "with open('model_LR_9th', 'wb') as files:\n",
        "    pickle.dump(objects, files)"
      ],
      "metadata": {
        "id": "7rlBPPWr2OVP"
      },
      "execution_count": 91,
      "outputs": []
    },
    {
      "cell_type": "markdown",
      "source": [
        "Load Model"
      ],
      "metadata": {
        "id": "3yiZksKj3BTo"
      }
    },
    {
      "cell_type": "code",
      "source": [
        "with open('model_LR_9th' , 'rb') as f:\n",
        "    model, x_train, y_train,x_test,y_test, score = pickle.load(f)"
      ],
      "metadata": {
        "id": "Cv_pnA7u2_C6"
      },
      "execution_count": 93,
      "outputs": []
    },
    {
      "cell_type": "code",
      "source": [
        "print('The accuracy of the Logistic Regression for Test Set is: {}'.format(score))"
      ],
      "metadata": {
        "id": "06MRhISc3Tfx",
        "outputId": "0bd06c6d-0b8d-4162-b628-be62acfe41e8",
        "colab": {
          "base_uri": "https://localhost:8080/"
        }
      },
      "execution_count": 94,
      "outputs": [
        {
          "output_type": "stream",
          "name": "stdout",
          "text": [
            "The accuracy of the Logistic Regression for Test Set is: 90.95477386934674\n"
          ]
        }
      ]
    },
    {
      "cell_type": "code",
      "source": [
        "train_predict = model.predict(x_train)\n",
        "test_predict = model.predict(x_test)"
      ],
      "metadata": {
        "id": "sFkGqZEZe8cl"
      },
      "execution_count": null,
      "outputs": []
    },
    {
      "cell_type": "code",
      "source": [
        "cm(y_train,train_predict,0,9)"
      ],
      "metadata": {
        "colab": {
          "base_uri": "https://localhost:8080/",
          "height": 292
        },
        "id": "aK4h1impeqUM",
        "outputId": "6bbb6084-d15d-483d-885e-e9bf22f89c0a"
      },
      "execution_count": 96,
      "outputs": [
        {
          "output_type": "stream",
          "name": "stdout",
          "text": [
            "[[1114  157]\n",
            " [ 277   43]]\n"
          ]
        },
        {
          "output_type": "display_data",
          "data": {
            "text/plain": [
              "<Figure size 288x288 with 2 Axes>"
            ],
            "image/png": "[encoded data removed]"
          },
          "metadata": {
            "needs_background": "light"
          }
        }
      ]
    },
    {
      "cell_type": "code",
      "source": [
        "cm(y_test,test_predict,1,9)"
      ],
      "metadata": {
        "colab": {
          "base_uri": "https://localhost:8080/",
          "height": 292
        },
        "id": "Xyo_Lwc9fG-L",
        "outputId": "4de61d38-b20a-46c8-f2f3-f246195a48bb"
      },
      "execution_count": 97,
      "outputs": [
        {
          "output_type": "stream",
          "name": "stdout",
          "text": [
            "[[287  44]\n",
            " [ 62   5]]\n"
          ]
        },
        {
          "output_type": "display_data",
          "data": {
            "text/plain": [
              "<Figure size 288x288 with 2 Axes>"
            ],
            "image/png": "[encoded data removed]"
          },
          "metadata": {
            "needs_background": "light"
          }
        }
      ]
    }
  ]
}