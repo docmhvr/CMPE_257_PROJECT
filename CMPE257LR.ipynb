{
  "nbformat": 4,
  "nbformat_minor": 0,
  "metadata": {
    "colab": {
      "provenance": []
    },
    "kernelspec": {
      "name": "python3",
      "display_name": "Python 3"
    },
    "language_info": {
      "name": "python"
    }
  },
  "cells": [
    {
      "cell_type": "code",
      "execution_count": 1,
      "metadata": {
        "id": "RGQztMIMt3WV"
      },
      "outputs": [],
      "source": [
        "import pandas as pd\n",
        "import numpy as np"
      ]
    },
    {
      "cell_type": "code",
      "source": [
        "dfSanJose = pd.read_csv(\"/content/PreprocessedDataset\")"
      ],
      "metadata": {
        "id": "GWXl5rjmt7Zy"
      },
      "execution_count": 2,
      "outputs": []
    },
    {
      "cell_type": "code",
      "source": [
        "dfSanJose"
      ],
      "metadata": {
        "colab": {
          "base_uri": "https://localhost:8080/",
          "height": 505
        },
        "id": "FQ3I73WDuGfH",
        "outputId": "ccf45b2d-605f-4743-8147-121c32c04782"
      },
      "execution_count": 3,
      "outputs": [
        {
          "output_type": "execute_result",
          "data": {
            "text/plain": [
              "      Unnamed: 0   Temp  MaxTemp  MinTemp  hPAAtSeaLevel     hPA  Humidity  \\\n",
              "0              0  48.02    55.94    37.04         1021.0  1019.3        29   \n",
              "1              1  43.52    57.02    33.08         1023.9  1022.2        43   \n",
              "2              2  44.78    57.92    33.08         1023.7  1022.0        54   \n",
              "3              3  46.22    62.06    33.98         1017.6  1015.9        62   \n",
              "4              4  51.26    62.06    35.06         1008.9  1007.2        72   \n",
              "...          ...    ...      ...      ...            ...     ...       ...   \n",
              "1984        1821  49.46    51.80    43.70         1008.8   941.1        87   \n",
              "1985        1822  52.34    57.20    46.40         1012.8   945.0        78   \n",
              "1986        1823  48.20    50.36    45.68         1011.6   943.1        95   \n",
              "1987        1824  52.70    57.20    47.84         1001.6   935.1        91   \n",
              "1988        1825  52.34    57.20    46.40         1004.8   937.7        79   \n",
              "\n",
              "      Visibility  AverageWindSpeed  MaxSustainedWindSpeed  Fog  Percipitation  \n",
              "0           16.1              13.7                   25.9    0              0  \n",
              "1           16.1               6.3                   11.1    0              0  \n",
              "2           16.1               5.0                   14.8    0              0  \n",
              "3           16.1               3.3                   16.5    0              0  \n",
              "4           15.8              20.9                   44.6    0              1  \n",
              "...          ...               ...                    ...  ...            ...  \n",
              "1984        10.1              11.7                   22.2    0              1  \n",
              "1985        12.4              14.6                   22.2    0              1  \n",
              "1986         6.9               8.5                   16.5    0              1  \n",
              "1987        10.3              17.8                   29.4    0              1  \n",
              "1988        12.4              19.8                   37.0    0              1  \n",
              "\n",
              "[1989 rows x 12 columns]"
            ],
            "text/html": [
              "\n",
              "  <div id=\"df-46b2ee91-1d3d-450b-acdf-c01933f3d009\">\n",
              "    <div class=\"colab-df-container\">\n",
              "      <div>\n",
              "<style scoped>\n",
              "    .dataframe tbody tr th:only-of-type {\n",
              "        vertical-align: middle;\n",
              "    }\n",
              "\n",
              "    .dataframe tbody tr th {\n",
              "        vertical-align: top;\n",
              "    }\n",
              "\n",
              "    .dataframe thead th {\n",
              "        text-align: right;\n",
              "    }\n",
              "</style>\n",
              "<table border=\"1\" class=\"dataframe\">\n",
              "  <thead>\n",
              "    <tr style=\"text-align: right;\">\n",
              "      <th></th>\n",
              "      <th>Unnamed: 0</th>\n",
              "      <th>Temp</th>\n",
              "      <th>MaxTemp</th>\n",
              "      <th>MinTemp</th>\n",
              "      <th>hPAAtSeaLevel</th>\n",
              "      <th>hPA</th>\n",
              "      <th>Humidity</th>\n",
              "      <th>Visibility</th>\n",
              "      <th>AverageWindSpeed</th>\n",
              "      <th>MaxSustainedWindSpeed</th>\n",
              "      <th>Fog</th>\n",
              "      <th>Percipitation</th>\n",
              "    </tr>\n",
              "  </thead>\n",
              "  <tbody>\n",
              "    <tr>\n",
              "      <th>0</th>\n",
              "      <td>0</td>\n",
              "      <td>48.02</td>\n",
              "      <td>55.94</td>\n",
              "      <td>37.04</td>\n",
              "      <td>1021.0</td>\n",
              "      <td>1019.3</td>\n",
              "      <td>29</td>\n",
              "      <td>16.1</td>\n",
              "      <td>13.7</td>\n",
              "      <td>25.9</td>\n",
              "      <td>0</td>\n",
              "      <td>0</td>\n",
              "    </tr>\n",
              "    <tr>\n",
              "      <th>1</th>\n",
              "      <td>1</td>\n",
              "      <td>43.52</td>\n",
              "      <td>57.02</td>\n",
              "      <td>33.08</td>\n",
              "      <td>1023.9</td>\n",
              "      <td>1022.2</td>\n",
              "      <td>43</td>\n",
              "      <td>16.1</td>\n",
              "      <td>6.3</td>\n",
              "      <td>11.1</td>\n",
              "      <td>0</td>\n",
              "      <td>0</td>\n",
              "    </tr>\n",
              "    <tr>\n",
              "      <th>2</th>\n",
              "      <td>2</td>\n",
              "      <td>44.78</td>\n",
              "      <td>57.92</td>\n",
              "      <td>33.08</td>\n",
              "      <td>1023.7</td>\n",
              "      <td>1022.0</td>\n",
              "      <td>54</td>\n",
              "      <td>16.1</td>\n",
              "      <td>5.0</td>\n",
              "      <td>14.8</td>\n",
              "      <td>0</td>\n",
              "      <td>0</td>\n",
              "    </tr>\n",
              "    <tr>\n",
              "      <th>3</th>\n",
              "      <td>3</td>\n",
              "      <td>46.22</td>\n",
              "      <td>62.06</td>\n",
              "      <td>33.98</td>\n",
              "      <td>1017.6</td>\n",
              "      <td>1015.9</td>\n",
              "      <td>62</td>\n",
              "      <td>16.1</td>\n",
              "      <td>3.3</td>\n",
              "      <td>16.5</td>\n",
              "      <td>0</td>\n",
              "      <td>0</td>\n",
              "    </tr>\n",
              "    <tr>\n",
              "      <th>4</th>\n",
              "      <td>4</td>\n",
              "      <td>51.26</td>\n",
              "      <td>62.06</td>\n",
              "      <td>35.06</td>\n",
              "      <td>1008.9</td>\n",
              "      <td>1007.2</td>\n",
              "      <td>72</td>\n",
              "      <td>15.8</td>\n",
              "      <td>20.9</td>\n",
              "      <td>44.6</td>\n",
              "      <td>0</td>\n",
              "      <td>1</td>\n",
              "    </tr>\n",
              "    <tr>\n",
              "      <th>...</th>\n",
              "      <td>...</td>\n",
              "      <td>...</td>\n",
              "      <td>...</td>\n",
              "      <td>...</td>\n",
              "      <td>...</td>\n",
              "      <td>...</td>\n",
              "      <td>...</td>\n",
              "      <td>...</td>\n",
              "      <td>...</td>\n",
              "      <td>...</td>\n",
              "      <td>...</td>\n",
              "      <td>...</td>\n",
              "    </tr>\n",
              "    <tr>\n",
              "      <th>1984</th>\n",
              "      <td>1821</td>\n",
              "      <td>49.46</td>\n",
              "      <td>51.80</td>\n",
              "      <td>43.70</td>\n",
              "      <td>1008.8</td>\n",
              "      <td>941.1</td>\n",
              "      <td>87</td>\n",
              "      <td>10.1</td>\n",
              "      <td>11.7</td>\n",
              "      <td>22.2</td>\n",
              "      <td>0</td>\n",
              "      <td>1</td>\n",
              "    </tr>\n",
              "    <tr>\n",
              "      <th>1985</th>\n",
              "      <td>1822</td>\n",
              "      <td>52.34</td>\n",
              "      <td>57.20</td>\n",
              "      <td>46.40</td>\n",
              "      <td>1012.8</td>\n",
              "      <td>945.0</td>\n",
              "      <td>78</td>\n",
              "      <td>12.4</td>\n",
              "      <td>14.6</td>\n",
              "      <td>22.2</td>\n",
              "      <td>0</td>\n",
              "      <td>1</td>\n",
              "    </tr>\n",
              "    <tr>\n",
              "      <th>1986</th>\n",
              "      <td>1823</td>\n",
              "      <td>48.20</td>\n",
              "      <td>50.36</td>\n",
              "      <td>45.68</td>\n",
              "      <td>1011.6</td>\n",
              "      <td>943.1</td>\n",
              "      <td>95</td>\n",
              "      <td>6.9</td>\n",
              "      <td>8.5</td>\n",
              "      <td>16.5</td>\n",
              "      <td>0</td>\n",
              "      <td>1</td>\n",
              "    </tr>\n",
              "    <tr>\n",
              "      <th>1987</th>\n",
              "      <td>1824</td>\n",
              "      <td>52.70</td>\n",
              "      <td>57.20</td>\n",
              "      <td>47.84</td>\n",
              "      <td>1001.6</td>\n",
              "      <td>935.1</td>\n",
              "      <td>91</td>\n",
              "      <td>10.3</td>\n",
              "      <td>17.8</td>\n",
              "      <td>29.4</td>\n",
              "      <td>0</td>\n",
              "      <td>1</td>\n",
              "    </tr>\n",
              "    <tr>\n",
              "      <th>1988</th>\n",
              "      <td>1825</td>\n",
              "      <td>52.34</td>\n",
              "      <td>57.20</td>\n",
              "      <td>46.40</td>\n",
              "      <td>1004.8</td>\n",
              "      <td>937.7</td>\n",
              "      <td>79</td>\n",
              "      <td>12.4</td>\n",
              "      <td>19.8</td>\n",
              "      <td>37.0</td>\n",
              "      <td>0</td>\n",
              "      <td>1</td>\n",
              "    </tr>\n",
              "  </tbody>\n",
              "</table>\n",
              "<p>1989 rows × 12 columns</p>\n",
              "</div>\n",
              "      <button class=\"colab-df-convert\" onclick=\"convertToInteractive('df-46b2ee91-1d3d-450b-acdf-c01933f3d009')\"\n",
              "              title=\"Convert this dataframe to an interactive table.\"\n",
              "              style=\"display:none;\">\n",
              "        \n",
              "  <svg xmlns=\"http://www.w3.org/2000/svg\" height=\"24px\"viewBox=\"0 0 24 24\"\n",
              "       width=\"24px\">\n",
              "    <path d=\"M0 0h24v24H0V0z\" fill=\"none\"/>\n",
              "    <path d=\"M18.56 5.44l.94 2.06.94-2.06 2.06-.94-2.06-.94-.94-2.06-.94 2.06-2.06.94zm-11 1L8.5 8.5l.94-2.06 2.06-.94-2.06-.94L8.5 2.5l-.94 2.06-2.06.94zm10 10l.94 2.06.94-2.06 2.06-.94-2.06-.94-.94-2.06-.94 2.06-2.06.94z\"/><path d=\"M17.41 7.96l-1.37-1.37c-.4-.4-.92-.59-1.43-.59-.52 0-1.04.2-1.43.59L10.3 9.45l-7.72 7.72c-.78.78-.78 2.05 0 2.83L4 21.41c.39.39.9.59 1.41.59.51 0 1.02-.2 1.41-.59l7.78-7.78 2.81-2.81c.8-.78.8-2.07 0-2.86zM5.41 20L4 18.59l7.72-7.72 1.47 1.35L5.41 20z\"/>\n",
              "  </svg>\n",
              "      </button>\n",
              "      \n",
              "  <style>\n",
              "    .colab-df-container {\n",
              "      display:flex;\n",
              "      flex-wrap:wrap;\n",
              "      gap: 12px;\n",
              "    }\n",
              "\n",
              "    .colab-df-convert {\n",
              "      background-color: #E8F0FE;\n",
              "      border: none;\n",
              "      border-radius: 50%;\n",
              "      cursor: pointer;\n",
              "      display: none;\n",
              "      fill: #1967D2;\n",
              "      height: 32px;\n",
              "      padding: 0 0 0 0;\n",
              "      width: 32px;\n",
              "    }\n",
              "\n",
              "    .colab-df-convert:hover {\n",
              "      background-color: #E2EBFA;\n",
              "      box-shadow: 0px 1px 2px rgba(60, 64, 67, 0.3), 0px 1px 3px 1px rgba(60, 64, 67, 0.15);\n",
              "      fill: #174EA6;\n",
              "    }\n",
              "\n",
              "    [theme=dark] .colab-df-convert {\n",
              "      background-color: #3B4455;\n",
              "      fill: #D2E3FC;\n",
              "    }\n",
              "\n",
              "    [theme=dark] .colab-df-convert:hover {\n",
              "      background-color: #434B5C;\n",
              "      box-shadow: 0px 1px 3px 1px rgba(0, 0, 0, 0.15);\n",
              "      filter: drop-shadow(0px 1px 2px rgba(0, 0, 0, 0.3));\n",
              "      fill: #FFFFFF;\n",
              "    }\n",
              "  </style>\n",
              "\n",
              "      <script>\n",
              "        const buttonEl =\n",
              "          document.querySelector('#df-46b2ee91-1d3d-450b-acdf-c01933f3d009 button.colab-df-convert');\n",
              "        buttonEl.style.display =\n",
              "          google.colab.kernel.accessAllowed ? 'block' : 'none';\n",
              "\n",
              "        async function convertToInteractive(key) {\n",
              "          const element = document.querySelector('#df-46b2ee91-1d3d-450b-acdf-c01933f3d009');\n",
              "          const dataTable =\n",
              "            await google.colab.kernel.invokeFunction('convertToInteractive',\n",
              "                                                     [key], {});\n",
              "          if (!dataTable) return;\n",
              "\n",
              "          const docLinkHtml = 'Like what you see? Visit the ' +\n",
              "            '<a target=\"_blank\" href=https://colab.research.google.com/notebooks/data_table.ipynb>data table notebook</a>'\n",
              "            + ' to learn more about interactive tables.';\n",
              "          element.innerHTML = '';\n",
              "          dataTable['output_type'] = 'display_data';\n",
              "          await google.colab.output.renderOutput(dataTable, element);\n",
              "          const docLink = document.createElement('div');\n",
              "          docLink.innerHTML = docLinkHtml;\n",
              "          element.appendChild(docLink);\n",
              "        }\n",
              "      </script>\n",
              "    </div>\n",
              "  </div>\n",
              "  "
            ]
          },
          "metadata": {},
          "execution_count": 3
        }
      ]
    },
    {
      "cell_type": "code",
      "source": [
        "pred = dfSanJose['Percipitation']"
      ],
      "metadata": {
        "id": "57OwUiJWRNHg"
      },
      "execution_count": 4,
      "outputs": []
    },
    {
      "cell_type": "code",
      "source": [
        "pred.values"
      ],
      "metadata": {
        "colab": {
          "base_uri": "https://localhost:8080/"
        },
        "id": "9ZYwg5UARmZ2",
        "outputId": "8a710692-8c29-4acd-aaf4-25e9c7f4aeb8"
      },
      "execution_count": 5,
      "outputs": [
        {
          "output_type": "execute_result",
          "data": {
            "text/plain": [
              "array([0, 0, 0, ..., 1, 1, 1])"
            ]
          },
          "metadata": {},
          "execution_count": 5
        }
      ]
    },
    {
      "cell_type": "code",
      "source": [
        "data = dfSanJose.drop(['Percipitation'], axis=1)\n",
        "data = dfSanJose.drop(['Unnamed: 0'], axis=1)"
      ],
      "metadata": {
        "id": "ZmASqltvRNMa"
      },
      "execution_count": 6,
      "outputs": []
    },
    {
      "cell_type": "code",
      "source": [
        "data"
      ],
      "metadata": {
        "colab": {
          "base_uri": "https://localhost:8080/",
          "height": 488
        },
        "id": "Sr_-DosNRjfE",
        "outputId": "8ce8530d-f574-4f20-cf32-1621f18e8871"
      },
      "execution_count": 7,
      "outputs": [
        {
          "output_type": "execute_result",
          "data": {
            "text/plain": [
              "       Temp  MaxTemp  MinTemp  hPAAtSeaLevel     hPA  Humidity  Visibility  \\\n",
              "0     48.02    55.94    37.04         1021.0  1019.3        29        16.1   \n",
              "1     43.52    57.02    33.08         1023.9  1022.2        43        16.1   \n",
              "2     44.78    57.92    33.08         1023.7  1022.0        54        16.1   \n",
              "3     46.22    62.06    33.98         1017.6  1015.9        62        16.1   \n",
              "4     51.26    62.06    35.06         1008.9  1007.2        72        15.8   \n",
              "...     ...      ...      ...            ...     ...       ...         ...   \n",
              "1984  49.46    51.80    43.70         1008.8   941.1        87        10.1   \n",
              "1985  52.34    57.20    46.40         1012.8   945.0        78        12.4   \n",
              "1986  48.20    50.36    45.68         1011.6   943.1        95         6.9   \n",
              "1987  52.70    57.20    47.84         1001.6   935.1        91        10.3   \n",
              "1988  52.34    57.20    46.40         1004.8   937.7        79        12.4   \n",
              "\n",
              "      AverageWindSpeed  MaxSustainedWindSpeed  Fog  Percipitation  \n",
              "0                 13.7                   25.9    0              0  \n",
              "1                  6.3                   11.1    0              0  \n",
              "2                  5.0                   14.8    0              0  \n",
              "3                  3.3                   16.5    0              0  \n",
              "4                 20.9                   44.6    0              1  \n",
              "...                ...                    ...  ...            ...  \n",
              "1984              11.7                   22.2    0              1  \n",
              "1985              14.6                   22.2    0              1  \n",
              "1986               8.5                   16.5    0              1  \n",
              "1987              17.8                   29.4    0              1  \n",
              "1988              19.8                   37.0    0              1  \n",
              "\n",
              "[1989 rows x 11 columns]"
            ],
            "text/html": [
              "\n",
              "  <div id=\"df-8e9a7e7c-f184-4e10-b5d6-127aa37579e7\">\n",
              "    <div class=\"colab-df-container\">\n",
              "      <div>\n",
              "<style scoped>\n",
              "    .dataframe tbody tr th:only-of-type {\n",
              "        vertical-align: middle;\n",
              "    }\n",
              "\n",
              "    .dataframe tbody tr th {\n",
              "        vertical-align: top;\n",
              "    }\n",
              "\n",
              "    .dataframe thead th {\n",
              "        text-align: right;\n",
              "    }\n",
              "</style>\n",
              "<table border=\"1\" class=\"dataframe\">\n",
              "  <thead>\n",
              "    <tr style=\"text-align: right;\">\n",
              "      <th></th>\n",
              "      <th>Temp</th>\n",
              "      <th>MaxTemp</th>\n",
              "      <th>MinTemp</th>\n",
              "      <th>hPAAtSeaLevel</th>\n",
              "      <th>hPA</th>\n",
              "      <th>Humidity</th>\n",
              "      <th>Visibility</th>\n",
              "      <th>AverageWindSpeed</th>\n",
              "      <th>MaxSustainedWindSpeed</th>\n",
              "      <th>Fog</th>\n",
              "      <th>Percipitation</th>\n",
              "    </tr>\n",
              "  </thead>\n",
              "  <tbody>\n",
              "    <tr>\n",
              "      <th>0</th>\n",
              "      <td>48.02</td>\n",
              "      <td>55.94</td>\n",
              "      <td>37.04</td>\n",
              "      <td>1021.0</td>\n",
              "      <td>1019.3</td>\n",
              "      <td>29</td>\n",
              "      <td>16.1</td>\n",
              "      <td>13.7</td>\n",
              "      <td>25.9</td>\n",
              "      <td>0</td>\n",
              "      <td>0</td>\n",
              "    </tr>\n",
              "    <tr>\n",
              "      <th>1</th>\n",
              "      <td>43.52</td>\n",
              "      <td>57.02</td>\n",
              "      <td>33.08</td>\n",
              "      <td>1023.9</td>\n",
              "      <td>1022.2</td>\n",
              "      <td>43</td>\n",
              "      <td>16.1</td>\n",
              "      <td>6.3</td>\n",
              "      <td>11.1</td>\n",
              "      <td>0</td>\n",
              "      <td>0</td>\n",
              "    </tr>\n",
              "    <tr>\n",
              "      <th>2</th>\n",
              "      <td>44.78</td>\n",
              "      <td>57.92</td>\n",
              "      <td>33.08</td>\n",
              "      <td>1023.7</td>\n",
              "      <td>1022.0</td>\n",
              "      <td>54</td>\n",
              "      <td>16.1</td>\n",
              "      <td>5.0</td>\n",
              "      <td>14.8</td>\n",
              "      <td>0</td>\n",
              "      <td>0</td>\n",
              "    </tr>\n",
              "    <tr>\n",
              "      <th>3</th>\n",
              "      <td>46.22</td>\n",
              "      <td>62.06</td>\n",
              "      <td>33.98</td>\n",
              "      <td>1017.6</td>\n",
              "      <td>1015.9</td>\n",
              "      <td>62</td>\n",
              "      <td>16.1</td>\n",
              "      <td>3.3</td>\n",
              "      <td>16.5</td>\n",
              "      <td>0</td>\n",
              "      <td>0</td>\n",
              "    </tr>\n",
              "    <tr>\n",
              "      <th>4</th>\n",
              "      <td>51.26</td>\n",
              "      <td>62.06</td>\n",
              "      <td>35.06</td>\n",
              "      <td>1008.9</td>\n",
              "      <td>1007.2</td>\n",
              "      <td>72</td>\n",
              "      <td>15.8</td>\n",
              "      <td>20.9</td>\n",
              "      <td>44.6</td>\n",
              "      <td>0</td>\n",
              "      <td>1</td>\n",
              "    </tr>\n",
              "    <tr>\n",
              "      <th>...</th>\n",
              "      <td>...</td>\n",
              "      <td>...</td>\n",
              "      <td>...</td>\n",
              "      <td>...</td>\n",
              "      <td>...</td>\n",
              "      <td>...</td>\n",
              "      <td>...</td>\n",
              "      <td>...</td>\n",
              "      <td>...</td>\n",
              "      <td>...</td>\n",
              "      <td>...</td>\n",
              "    </tr>\n",
              "    <tr>\n",
              "      <th>1984</th>\n",
              "      <td>49.46</td>\n",
              "      <td>51.80</td>\n",
              "      <td>43.70</td>\n",
              "      <td>1008.8</td>\n",
              "      <td>941.1</td>\n",
              "      <td>87</td>\n",
              "      <td>10.1</td>\n",
              "      <td>11.7</td>\n",
              "      <td>22.2</td>\n",
              "      <td>0</td>\n",
              "      <td>1</td>\n",
              "    </tr>\n",
              "    <tr>\n",
              "      <th>1985</th>\n",
              "      <td>52.34</td>\n",
              "      <td>57.20</td>\n",
              "      <td>46.40</td>\n",
              "      <td>1012.8</td>\n",
              "      <td>945.0</td>\n",
              "      <td>78</td>\n",
              "      <td>12.4</td>\n",
              "      <td>14.6</td>\n",
              "      <td>22.2</td>\n",
              "      <td>0</td>\n",
              "      <td>1</td>\n",
              "    </tr>\n",
              "    <tr>\n",
              "      <th>1986</th>\n",
              "      <td>48.20</td>\n",
              "      <td>50.36</td>\n",
              "      <td>45.68</td>\n",
              "      <td>1011.6</td>\n",
              "      <td>943.1</td>\n",
              "      <td>95</td>\n",
              "      <td>6.9</td>\n",
              "      <td>8.5</td>\n",
              "      <td>16.5</td>\n",
              "      <td>0</td>\n",
              "      <td>1</td>\n",
              "    </tr>\n",
              "    <tr>\n",
              "      <th>1987</th>\n",
              "      <td>52.70</td>\n",
              "      <td>57.20</td>\n",
              "      <td>47.84</td>\n",
              "      <td>1001.6</td>\n",
              "      <td>935.1</td>\n",
              "      <td>91</td>\n",
              "      <td>10.3</td>\n",
              "      <td>17.8</td>\n",
              "      <td>29.4</td>\n",
              "      <td>0</td>\n",
              "      <td>1</td>\n",
              "    </tr>\n",
              "    <tr>\n",
              "      <th>1988</th>\n",
              "      <td>52.34</td>\n",
              "      <td>57.20</td>\n",
              "      <td>46.40</td>\n",
              "      <td>1004.8</td>\n",
              "      <td>937.7</td>\n",
              "      <td>79</td>\n",
              "      <td>12.4</td>\n",
              "      <td>19.8</td>\n",
              "      <td>37.0</td>\n",
              "      <td>0</td>\n",
              "      <td>1</td>\n",
              "    </tr>\n",
              "  </tbody>\n",
              "</table>\n",
              "<p>1989 rows × 11 columns</p>\n",
              "</div>\n",
              "      <button class=\"colab-df-convert\" onclick=\"convertToInteractive('df-8e9a7e7c-f184-4e10-b5d6-127aa37579e7')\"\n",
              "              title=\"Convert this dataframe to an interactive table.\"\n",
              "              style=\"display:none;\">\n",
              "        \n",
              "  <svg xmlns=\"http://www.w3.org/2000/svg\" height=\"24px\"viewBox=\"0 0 24 24\"\n",
              "       width=\"24px\">\n",
              "    <path d=\"M0 0h24v24H0V0z\" fill=\"none\"/>\n",
              "    <path d=\"M18.56 5.44l.94 2.06.94-2.06 2.06-.94-2.06-.94-.94-2.06-.94 2.06-2.06.94zm-11 1L8.5 8.5l.94-2.06 2.06-.94-2.06-.94L8.5 2.5l-.94 2.06-2.06.94zm10 10l.94 2.06.94-2.06 2.06-.94-2.06-.94-.94-2.06-.94 2.06-2.06.94z\"/><path d=\"M17.41 7.96l-1.37-1.37c-.4-.4-.92-.59-1.43-.59-.52 0-1.04.2-1.43.59L10.3 9.45l-7.72 7.72c-.78.78-.78 2.05 0 2.83L4 21.41c.39.39.9.59 1.41.59.51 0 1.02-.2 1.41-.59l7.78-7.78 2.81-2.81c.8-.78.8-2.07 0-2.86zM5.41 20L4 18.59l7.72-7.72 1.47 1.35L5.41 20z\"/>\n",
              "  </svg>\n",
              "      </button>\n",
              "      \n",
              "  <style>\n",
              "    .colab-df-container {\n",
              "      display:flex;\n",
              "      flex-wrap:wrap;\n",
              "      gap: 12px;\n",
              "    }\n",
              "\n",
              "    .colab-df-convert {\n",
              "      background-color: #E8F0FE;\n",
              "      border: none;\n",
              "      border-radius: 50%;\n",
              "      cursor: pointer;\n",
              "      display: none;\n",
              "      fill: #1967D2;\n",
              "      height: 32px;\n",
              "      padding: 0 0 0 0;\n",
              "      width: 32px;\n",
              "    }\n",
              "\n",
              "    .colab-df-convert:hover {\n",
              "      background-color: #E2EBFA;\n",
              "      box-shadow: 0px 1px 2px rgba(60, 64, 67, 0.3), 0px 1px 3px 1px rgba(60, 64, 67, 0.15);\n",
              "      fill: #174EA6;\n",
              "    }\n",
              "\n",
              "    [theme=dark] .colab-df-convert {\n",
              "      background-color: #3B4455;\n",
              "      fill: #D2E3FC;\n",
              "    }\n",
              "\n",
              "    [theme=dark] .colab-df-convert:hover {\n",
              "      background-color: #434B5C;\n",
              "      box-shadow: 0px 1px 3px 1px rgba(0, 0, 0, 0.15);\n",
              "      filter: drop-shadow(0px 1px 2px rgba(0, 0, 0, 0.3));\n",
              "      fill: #FFFFFF;\n",
              "    }\n",
              "  </style>\n",
              "\n",
              "      <script>\n",
              "        const buttonEl =\n",
              "          document.querySelector('#df-8e9a7e7c-f184-4e10-b5d6-127aa37579e7 button.colab-df-convert');\n",
              "        buttonEl.style.display =\n",
              "          google.colab.kernel.accessAllowed ? 'block' : 'none';\n",
              "\n",
              "        async function convertToInteractive(key) {\n",
              "          const element = document.querySelector('#df-8e9a7e7c-f184-4e10-b5d6-127aa37579e7');\n",
              "          const dataTable =\n",
              "            await google.colab.kernel.invokeFunction('convertToInteractive',\n",
              "                                                     [key], {});\n",
              "          if (!dataTable) return;\n",
              "\n",
              "          const docLinkHtml = 'Like what you see? Visit the ' +\n",
              "            '<a target=\"_blank\" href=https://colab.research.google.com/notebooks/data_table.ipynb>data table notebook</a>'\n",
              "            + ' to learn more about interactive tables.';\n",
              "          element.innerHTML = '';\n",
              "          dataTable['output_type'] = 'display_data';\n",
              "          await google.colab.output.renderOutput(dataTable, element);\n",
              "          const docLink = document.createElement('div');\n",
              "          docLink.innerHTML = docLinkHtml;\n",
              "          element.appendChild(docLink);\n",
              "        }\n",
              "      </script>\n",
              "    </div>\n",
              "  </div>\n",
              "  "
            ]
          },
          "metadata": {},
          "execution_count": 7
        }
      ]
    },
    {
      "cell_type": "code",
      "source": [
        "data = data.values"
      ],
      "metadata": {
        "id": "UrzmP3FCPZyS"
      },
      "execution_count": 8,
      "outputs": []
    },
    {
      "cell_type": "code",
      "source": [
        "data[0]"
      ],
      "metadata": {
        "colab": {
          "base_uri": "https://localhost:8080/"
        },
        "id": "tNI_0atFQeSX",
        "outputId": "0a112e56-310b-47ab-9847-e77bb4a77525"
      },
      "execution_count": 9,
      "outputs": [
        {
          "output_type": "execute_result",
          "data": {
            "text/plain": [
              "array([  48.02,   55.94,   37.04, 1021.  , 1019.3 ,   29.  ,   16.1 ,\n",
              "         13.7 ,   25.9 ,    0.  ,    0.  ])"
            ]
          },
          "metadata": {},
          "execution_count": 9
        }
      ]
    },
    {
      "cell_type": "code",
      "source": [
        "from sklearn.model_selection import train_test_split\n",
        "from sklearn.linear_model import LogisticRegression\n",
        "from sklearn import metrics\n",
        "\n",
        "x_train, x_test, y_train, y_test = train_test_split(data, pred.values, test_size = 0.2, random_state = 1337)\n",
        "\n",
        "model = LogisticRegression(max_iter=1000000)"
      ],
      "metadata": {
        "id": "sJVwX3lFO_yY"
      },
      "execution_count": 10,
      "outputs": []
    },
    {
      "cell_type": "code",
      "source": [
        "model.fit(x_train, y_train)"
      ],
      "metadata": {
        "colab": {
          "base_uri": "https://localhost:8080/"
        },
        "id": "bgcY_GKbSMIH",
        "outputId": "f54169e7-c831-4d35-fff6-2df0aaede659"
      },
      "execution_count": 11,
      "outputs": [
        {
          "output_type": "execute_result",
          "data": {
            "text/plain": [
              "LogisticRegression(max_iter=1000000)"
            ]
          },
          "metadata": {},
          "execution_count": 11
        }
      ]
    },
    {
      "cell_type": "code",
      "source": [
        "train_predict = model.predict(x_train)"
      ],
      "metadata": {
        "id": "U1lM707ZSbCX"
      },
      "execution_count": 12,
      "outputs": []
    },
    {
      "cell_type": "code",
      "source": [
        "test_predict = model.predict(x_test)"
      ],
      "metadata": {
        "id": "xm8An4PJScTz"
      },
      "execution_count": 13,
      "outputs": []
    },
    {
      "cell_type": "code",
      "source": [
        "print('The accuracy of the Logistic Regression for Traning Set is: %d%%' % (metrics.accuracy_score(y_train,train_predict)*100))\n",
        "print('The accuracy of the Logistic Regression for Test Set is: %d%%' % (metrics.accuracy_score(y_test,test_predict)*100))\n"
      ],
      "metadata": {
        "colab": {
          "base_uri": "https://localhost:8080/"
        },
        "id": "cp_E0zCHSh-v",
        "outputId": "93541959-3fb4-4424-95f0-172394fc4006"
      },
      "execution_count": 14,
      "outputs": [
        {
          "output_type": "stream",
          "name": "stdout",
          "text": [
            "The accuracy of the Logistic Regression for Traning Set is: 100%\n",
            "The accuracy of the Logistic Regression for Test Set is: 100%\n"
          ]
        }
      ]
    },
    {
      "cell_type": "code",
      "source": [
        "import pickle\n",
        "\n",
        "with open('model_LR', 'wb') as files:\n",
        "    pickle.dump(model, files)"
      ],
      "metadata": {
        "id": "7rlBPPWr2OVP"
      },
      "execution_count": 17,
      "outputs": []
    },
    {
      "cell_type": "markdown",
      "source": [
        "Load Model"
      ],
      "metadata": {
        "id": "3yiZksKj3BTo"
      }
    },
    {
      "cell_type": "code",
      "source": [
        "with open('model_LR' , 'rb') as f:\n",
        "    load_model = pickle.load(f)"
      ],
      "metadata": {
        "id": "Cv_pnA7u2_C6"
      },
      "execution_count": 18,
      "outputs": []
    },
    {
      "cell_type": "code",
      "source": [
        "load_model_test = load_model.predict(x_test)"
      ],
      "metadata": {
        "id": "vBXwPwVp3Htl"
      },
      "execution_count": 20,
      "outputs": []
    },
    {
      "cell_type": "code",
      "source": [
        "print('The accuracy of the Logistic Regression for Test Set is: %d%%' % (metrics.accuracy_score(y_test,load_model_test)*100))"
      ],
      "metadata": {
        "colab": {
          "base_uri": "https://localhost:8080/"
        },
        "id": "06MRhISc3Tfx",
        "outputId": "4dfab4f7-7012-4117-c364-1b21e3c7111a"
      },
      "execution_count": 21,
      "outputs": [
        {
          "output_type": "stream",
          "name": "stdout",
          "text": [
            "The accuracy of the Logistic Regression for Test Set is: 100%\n"
          ]
        }
      ]
    }
  ]
}