{
 "cells": [
  {
   "cell_type": "code",
   "execution_count": 1,
   "id": "bb164af0",
   "metadata": {},
   "outputs": [],
   "source": [
    "import tensorflow as tf\n",
    "from tensorflow import keras\n",
    "import pandas as pd\n",
    "import numpy as np"
   ]
  },
  {
   "cell_type": "code",
   "execution_count": 2,
   "id": "6e2a4c59",
   "metadata": {},
   "outputs": [],
   "source": [
    "OverfitModel = tf.keras.models.load_model('SigmoidOver')\n",
    "FitModel = tf.keras.models.load_model('SigmoidReg')"
   ]
  },
  {
   "cell_type": "code",
   "execution_count": 3,
   "id": "0087a985",
   "metadata": {},
   "outputs": [],
   "source": [
    "X_train = pd.read_csv(\"X_train.csv\",index_col=0)\n",
    "Y_train = pd.read_csv(\"y_train.csv\",index_col=0)\n",
    "X_test = pd.read_csv(\"X_test.csv\",index_col=0)\n",
    "Y_test = pd.read_csv(\"y_test.csv\",index_col=0)"
   ]
  },
  {
   "cell_type": "code",
   "execution_count": 4,
   "id": "afbef047",
   "metadata": {},
   "outputs": [
    {
     "name": "stdout",
     "output_type": "stream",
     "text": [
      "19/19 [==============================] - 0s 373us/step\n"
     ]
    },
    {
     "name": "stderr",
     "output_type": "stream",
     "text": [
      "2022-11-27 14:53:59.285367: W tensorflow/core/platform/profile_utils/cpu_utils.cc:128] Failed to get CPU frequency: 0 Hz\n"
     ]
    }
   ],
   "source": [
    "from sklearn.metrics import confusion_matrix\n",
    "prediction = FitModel.predict(X_test)\n",
    "prediction = prediction > 0.5"
   ]
  },
  {
   "cell_type": "code",
   "execution_count": 12,
   "id": "516576b1",
   "metadata": {},
   "outputs": [
    {
     "data": {
      "text/plain": [
       "array([[441,  39],\n",
       "       [ 37,  80]])"
      ]
     },
     "execution_count": 12,
     "metadata": {},
     "output_type": "execute_result"
    }
   ],
   "source": [
    "matrix  = confusion_matrix(Y_test,prediction)\n",
    "matrix"
   ]
  },
  {
   "cell_type": "code",
   "execution_count": 18,
   "id": "967d4481",
   "metadata": {},
   "outputs": [],
   "source": [
    "tp,fp,fn,tn =matrix.ravel()"
   ]
  },
  {
   "cell_type": "code",
   "execution_count": 19,
   "id": "99a0867c",
   "metadata": {},
   "outputs": [],
   "source": [
    "precision = tp/(tp+fp)\n",
    "recall = tp/(tp+fn)\n",
    "accuracy = (tp+tn)/(tp+tn+fn+fp)"
   ]
  },
  {
   "cell_type": "code",
   "execution_count": 20,
   "id": "d9535a38",
   "metadata": {},
   "outputs": [
    {
     "data": {
      "text/plain": [
       "0.91875"
      ]
     },
     "execution_count": 20,
     "metadata": {},
     "output_type": "execute_result"
    }
   ],
   "source": [
    "precision"
   ]
  },
  {
   "cell_type": "code",
   "execution_count": 21,
   "id": "0bb8b425",
   "metadata": {},
   "outputs": [
    {
     "data": {
      "text/plain": [
       "0.9225941422594143"
      ]
     },
     "execution_count": 21,
     "metadata": {},
     "output_type": "execute_result"
    }
   ],
   "source": [
    "recall"
   ]
  },
  {
   "cell_type": "code",
   "execution_count": 22,
   "id": "2eadd5f1",
   "metadata": {},
   "outputs": [
    {
     "data": {
      "text/plain": [
       "0.8726968174204355"
      ]
     },
     "execution_count": 22,
     "metadata": {},
     "output_type": "execute_result"
    }
   ],
   "source": [
    "accuracy"
   ]
  },
  {
   "cell_type": "code",
   "execution_count": null,
   "id": "a7d5396c",
   "metadata": {},
   "outputs": [],
   "source": []
  }
 ],
 "metadata": {
  "kernelspec": {
   "display_name": "Python 3 (ipykernel)",
   "language": "python",
   "name": "python3"
  },
  "language_info": {
   "codemirror_mode": {
    "name": "ipython",
    "version": 3
   },
   "file_extension": ".py",
   "mimetype": "text/x-python",
   "name": "python",
   "nbconvert_exporter": "python",
   "pygments_lexer": "ipython3",
   "version": "3.10.6"
  }
 },
 "nbformat": 4,
 "nbformat_minor": 5
}
