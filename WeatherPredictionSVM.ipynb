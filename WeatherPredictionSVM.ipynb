{
 "cells": [
  {
   "cell_type": "code",
   "execution_count": 1,
   "id": "03b0df37",
   "metadata": {},
   "outputs": [],
   "source": [
    "import pandas as pd \n",
    "import numpy as np\n",
    "import sklearn\n",
    "from sklearn.preprocessing import MinMaxScaler\n",
    "from sklearn.model_selection import train_test_split"
   ]
  },
  {
   "cell_type": "code",
   "execution_count": 2,
   "id": "ba9ad1e2",
   "metadata": {},
   "outputs": [],
   "source": [
    "class CreateDataset():\n",
    "\n",
    "    def __init__(self, file_name):\n",
    "        df = pd.read_csv(file_name,index_col=0)\n",
    "        x = df.iloc[:,:10]\n",
    "        y = df.iloc[:,10:11]\n",
    "        self.scaler = sklearn.preprocessing.MinMaxScaler()\n",
    "        self.X_train,self.X_test, self.y_train,self.y_test = train_test_split(x,y,test_size=0.3)\n",
    "        self.X_train = self.scaler.fit_transform(self.X_train)\n",
    "        self.X_test = self.scaler.transform(self.X_test)\n",
    "    \n",
    "    def __len__(self,Train_or_Test):\n",
    "        if Train_or_Test == \"train\":\n",
    "            return len(self.X_train)\n",
    "        elif Train_or_Test == \"test\":\n",
    "            return len(self.X_test)\n",
    "        else:\n",
    "            return \"Type specification (train or test)\"\n",
    "        \n",
    "    def __scale__(self,df):\n",
    "        return self.scaler.transform(df)"
   ]
  },
  {
   "cell_type": "code",
   "execution_count": 4,
   "id": "7d48a931",
   "metadata": {},
   "outputs": [],
   "source": [
    "Data = CreateDataset(\"PreprocessedDataset\")"
   ]
  },
  {
   "cell_type": "code",
   "execution_count": 10,
   "id": "575c15f7",
   "metadata": {},
   "outputs": [
    {
     "name": "stderr",
     "output_type": "stream",
     "text": [
      "C:\\Users\\MAHAVIR\\anaconda3\\lib\\site-packages\\sklearn\\utils\\validation.py:993: DataConversionWarning: A column-vector y was passed when a 1d array was expected. Please change the shape of y to (n_samples, ), for example using ravel().\n",
      "  y = column_or_1d(y, warn=True)\n"
     ]
    }
   ],
   "source": [
    "from sklearn import svm\n",
    "\n",
    "#Create a svm Classifier\n",
    "clf = svm.SVC(kernel='linear') # Linear Kernel\n",
    "\n",
    "#Train the model using the training sets\n",
    "clf.fit(Data.X_train, Data.y_train)\n",
    "\n",
    "#Predict the response for test dataset\n",
    "y_pred = clf.predict(Data.X_test)"
   ]
  },
  {
   "cell_type": "code",
   "execution_count": 11,
   "id": "397f848e",
   "metadata": {},
   "outputs": [
    {
     "name": "stdout",
     "output_type": "stream",
     "text": [
      "Accuracy: 0.8609715242881072\n"
     ]
    }
   ],
   "source": [
    "#Import scikit-learn metrics module for accuracy calculation\n",
    "from sklearn import metrics\n",
    "\n",
    "# Model Accuracy: how often is the classifier correct?\n",
    "print(\"Accuracy:\",metrics.accuracy_score(Data.y_test, y_pred))"
   ]
  },
  {
   "cell_type": "code",
   "execution_count": 13,
   "id": "ac9b64e9",
   "metadata": {},
   "outputs": [
    {
     "name": "stdout",
     "output_type": "stream",
     "text": [
      "Precision: 0.7611940298507462\n",
      "Recall: 0.4322033898305085\n"
     ]
    }
   ],
   "source": [
    "# Model Precision: what percentage of positive tuples are labeled as such?\n",
    "print(\"Precision:\",metrics.precision_score(Data.y_test, y_pred))\n",
    "\n",
    "# Model Recall: what percentage of positive tuples are labelled as such?\n",
    "print(\"Recall:\",metrics.recall_score(Data.y_test, y_pred))"
   ]
  },
  {
   "cell_type": "code",
   "execution_count": null,
   "id": "8b623064",
   "metadata": {},
   "outputs": [],
   "source": []
  }
 ],
 "metadata": {
  "kernelspec": {
   "display_name": "Python 3 (ipykernel)",
   "language": "python",
   "name": "python3"
  },
  "language_info": {
   "codemirror_mode": {
    "name": "ipython",
    "version": 3
   },
   "file_extension": ".py",
   "mimetype": "text/x-python",
   "name": "python",
   "nbconvert_exporter": "python",
   "pygments_lexer": "ipython3",
   "version": "3.9.12"
  }
 },
 "nbformat": 4,
 "nbformat_minor": 5
}
