{
 "cells": [
  {
   "cell_type": "code",
   "execution_count": 2,
   "id": "03b0df37",
   "metadata": {},
   "outputs": [],
   "source": [
    "import pandas as pd \n",
    "import numpy as np\n",
    "import sklearn\n",
    "from sklearn.preprocessing import MinMaxScaler\n",
    "from sklearn.model_selection import train_test_split\n",
    "import pickle"
   ]
  },
  {
   "cell_type": "code",
   "execution_count": 3,
   "id": "ba9ad1e2",
   "metadata": {},
   "outputs": [],
   "source": [
    "class CreateDataset():\n",
    "\n",
    "    def __init__(self, file_name):\n",
    "        df = pd.read_csv(file_name,index_col=0)\n",
    "        x = df.iloc[:,:10]\n",
    "        y = df.iloc[:,10:11]\n",
    "        self.scaler = sklearn.preprocessing.MinMaxScaler()\n",
    "        self.X_train,self.X_test, self.y_train,self.y_test = train_test_split(x,y,test_size=0.3)\n",
    "        self.X_train = self.scaler.fit_transform(self.X_train)\n",
    "        self.X_test = self.scaler.transform(self.X_test)\n",
    "    \n",
    "    def __len__(self,Train_or_Test):\n",
    "        if Train_or_Test == \"train\":\n",
    "            return len(self.X_train)\n",
    "        elif Train_or_Test == \"test\":\n",
    "            return len(self.X_test)\n",
    "        else:\n",
    "            return \"Type specification (train or test)\"\n",
    "        \n",
    "    def __scale__(self,df):\n",
    "        return self.scaler.transform(df)"
   ]
  },
  {
   "cell_type": "code",
   "execution_count": 4,
   "id": "7d48a931",
   "metadata": {},
   "outputs": [],
   "source": [
    "Data = CreateDataset(\"PreprocessedDataset\")"
   ]
  },
  {
   "cell_type": "code",
   "execution_count": 5,
   "id": "575c15f7",
   "metadata": {},
   "outputs": [
    {
     "name": "stderr",
     "output_type": "stream",
     "text": [
      "C:\\Users\\MAHAVIR\\anaconda3\\lib\\site-packages\\sklearn\\utils\\validation.py:993: DataConversionWarning: A column-vector y was passed when a 1d array was expected. Please change the shape of y to (n_samples, ), for example using ravel().\n",
      "  y = column_or_1d(y, warn=True)\n"
     ]
    }
   ],
   "source": [
    "from sklearn import svm\n",
    "\n",
    "#Create a svm Classifier\n",
    "clf = svm.SVC(kernel='linear') # Linear Kernel\n",
    "\n",
    "#Train the model using the training sets\n",
    "clf.fit(Data.X_train, Data.y_train)\n",
    "\n",
    "#Predict the response for test dataset\n",
    "y_pred = clf.predict(Data.X_test)"
   ]
  },
  {
   "cell_type": "code",
   "execution_count": 16,
   "id": "74be96b3",
   "metadata": {},
   "outputs": [],
   "source": [
    "SVM_obj = (clf,Data.X_train, Data.y_train, Data.X_test,Data.y_test)"
   ]
  },
  {
   "cell_type": "code",
   "execution_count": 17,
   "id": "397f848e",
   "metadata": {},
   "outputs": [
    {
     "name": "stdout",
     "output_type": "stream",
     "text": [
      "Accuracy: 0.8676716917922948\n"
     ]
    }
   ],
   "source": [
    "#Import scikit-learn metrics module for accuracy calculation\n",
    "from sklearn import metrics\n",
    "\n",
    "# Model Accuracy: how often is the classifier correct?\n",
    "print(\"Accuracy:\",metrics.accuracy_score(Data.y_test, y_pred))"
   ]
  },
  {
   "cell_type": "code",
   "execution_count": 18,
   "id": "ac9b64e9",
   "metadata": {},
   "outputs": [
    {
     "name": "stdout",
     "output_type": "stream",
     "text": [
      "Precision: 0.7796610169491526\n",
      "Recall: 0.4107142857142857\n"
     ]
    }
   ],
   "source": [
    "# Model Precision: what percentage of positive tuples are labeled as such?\n",
    "print(\"Precision:\",metrics.precision_score(Data.y_test, y_pred))\n",
    "\n",
    "# Model Recall: what percentage of positive tuples are labelled as such?\n",
    "print(\"Recall:\",metrics.recall_score(Data.y_test, y_pred))"
   ]
  },
  {
   "cell_type": "code",
   "execution_count": 19,
   "id": "2fc94d3b",
   "metadata": {},
   "outputs": [],
   "source": [
    "with open('model_SVM', 'wb') as files:\n",
    "    pickle.dump(SVM_obj, files)"
   ]
  },
  {
   "cell_type": "code",
   "execution_count": 27,
   "id": "8b623064",
   "metadata": {},
   "outputs": [],
   "source": [
    "with open('model_SVM' , 'rb') as f:\n",
    "    model, x_train, y_train, x_test, y_test = pickle.load(f)"
   ]
  },
  {
   "cell_type": "code",
   "execution_count": 28,
   "id": "15ed6c0d",
   "metadata": {},
   "outputs": [
    {
     "name": "stdout",
     "output_type": "stream",
     "text": [
      "Accuracy: 0.8685344827586207\n"
     ]
    }
   ],
   "source": [
    "# Accuracy of training set\n",
    "train_predict = model.predict(x_train)\n",
    "print(\"Accuracy:\",metrics.accuracy_score(y_train,train_predict))"
   ]
  },
  {
   "cell_type": "code",
   "execution_count": 29,
   "id": "dfb43e4b",
   "metadata": {},
   "outputs": [
    {
     "data": {
      "text/plain": [
       "array([[472,  13],\n",
       "       [ 66,  46]], dtype=int64)"
      ]
     },
     "execution_count": 29,
     "metadata": {},
     "output_type": "execute_result"
    }
   ],
   "source": [
    "# Confusion Matrix\n",
    "from sklearn.metrics import confusion_matrix\n",
    "confusion_matrix(y_test, y_pred)"
   ]
  }
 ],
 "metadata": {
  "kernelspec": {
   "display_name": "Python 3 (ipykernel)",
   "language": "python",
   "name": "python3"
  },
  "language_info": {
   "codemirror_mode": {
    "name": "ipython",
    "version": 3
   },
   "file_extension": ".py",
   "mimetype": "text/x-python",
   "name": "python",
   "nbconvert_exporter": "python",
   "pygments_lexer": "ipython3",
   "version": "3.9.12"
  }
 },
 "nbformat": 4,
 "nbformat_minor": 5
}
